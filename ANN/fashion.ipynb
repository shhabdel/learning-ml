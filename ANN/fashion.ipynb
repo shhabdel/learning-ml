{
 "cells": [
  {
   "cell_type": "code",
   "execution_count": 1,
   "id": "6cb620ba",
   "metadata": {},
   "outputs": [],
   "source": [
    "from tensorflow.keras.datasets import fashion_mnist\n",
    "from tensorflow.keras.models import Sequential\n",
    "from tensorflow.keras.layers import Dense\n",
    "from tensorflow.keras.utils import to_categorical"
   ]
  },
  {
   "cell_type": "code",
   "execution_count": 2,
   "id": "a61f72b8",
   "metadata": {},
   "outputs": [],
   "source": [
    "(x_train, y_train), (x_test, y_test) = fashion_mnist.load_data()"
   ]
  },
  {
   "cell_type": "code",
   "execution_count": 3,
   "id": "65428de6",
   "metadata": {},
   "outputs": [],
   "source": [
    "# Flatten the 2D to 1D\n",
    "x_train = x_train.reshape(x_train.shape[0], -1) / 255.0\n",
    "x_test = x_test.reshape(x_test.shape[0], -1) / 255.0\n",
    "y_train = to_categorical(y_train)\n",
    "y_test = to_categorical(y_test)"
   ]
  },
  {
   "cell_type": "code",
   "execution_count": 4,
   "id": "96cd0185",
   "metadata": {},
   "outputs": [],
   "source": [
    "model = Sequential()\n",
    "model.add(Dense(10, input_dim=784, activation='relu')) #1 hidden layer with 10 nodes\n",
    "model.add(Dense(10, activation='softmax')) #Output layer"
   ]
  },
  {
   "cell_type": "code",
   "execution_count": 5,
   "id": "e70f70d1",
   "metadata": {},
   "outputs": [],
   "source": [
    "model.compile(loss='categorical_crossentropy', optimizer='adam', metrics=['accuracy'])"
   ]
  },
  {
   "cell_type": "code",
   "execution_count": 6,
   "id": "ffe0836b",
   "metadata": {},
   "outputs": [
    {
     "name": "stdout",
     "output_type": "stream",
     "text": [
      "Train on 54000 samples, validate on 6000 samples\n",
      "Epoch 1/10\n",
      "54000/54000 [==============================] - 6s 105us/sample - loss: 0.6717 - accuracy: 0.7739 - val_loss: 0.4968 - val_accuracy: 0.8297\n",
      "Epoch 2/10\n",
      "54000/54000 [==============================] - 5s 86us/sample - loss: 0.4772 - accuracy: 0.8356 - val_loss: 0.4519 - val_accuracy: 0.8382\n",
      "Epoch 3/10\n",
      "54000/54000 [==============================] - 5s 83us/sample - loss: 0.4509 - accuracy: 0.8439 - val_loss: 0.4563 - val_accuracy: 0.8357\n",
      "Epoch 4/10\n",
      "54000/54000 [==============================] - 4s 83us/sample - loss: 0.4329 - accuracy: 0.8498 - val_loss: 0.4339 - val_accuracy: 0.8445\n",
      "Epoch 5/10\n",
      "54000/54000 [==============================] - 5s 92us/sample - loss: 0.4225 - accuracy: 0.8526 - val_loss: 0.4344 - val_accuracy: 0.8482\n",
      "Epoch 6/10\n",
      "54000/54000 [==============================] - 4s 83us/sample - loss: 0.4148 - accuracy: 0.8544 - val_loss: 0.4303 - val_accuracy: 0.8493\n",
      "Epoch 7/10\n",
      "54000/54000 [==============================] - 4s 83us/sample - loss: 0.4075 - accuracy: 0.8568 - val_loss: 0.4312 - val_accuracy: 0.8485\n",
      "Epoch 8/10\n",
      "54000/54000 [==============================] - 6s 104us/sample - loss: 0.4022 - accuracy: 0.8583 - val_loss: 0.4316 - val_accuracy: 0.8455\n",
      "Epoch 9/10\n",
      "54000/54000 [==============================] - 6s 107us/sample - loss: 0.3990 - accuracy: 0.8603 - val_loss: 0.4081 - val_accuracy: 0.8570\n",
      "Epoch 10/10\n",
      "54000/54000 [==============================] - 5s 90us/sample - loss: 0.3932 - accuracy: 0.8631 - val_loss: 0.4178 - val_accuracy: 0.8547\n"
     ]
    },
    {
     "data": {
      "text/plain": [
       "<tensorflow.python.keras.callbacks.History at 0x7f96261f9190>"
      ]
     },
     "execution_count": 6,
     "metadata": {},
     "output_type": "execute_result"
    }
   ],
   "source": [
    "model.fit(x_train, y_train, epochs=10, validation_split=0.1)"
   ]
  },
  {
   "cell_type": "code",
   "execution_count": 7,
   "id": "ffe6c769",
   "metadata": {},
   "outputs": [],
   "source": [
    "%%capture\n",
    "_, test_acc = model.evaluate(x_test, y_test)"
   ]
  },
  {
   "cell_type": "code",
   "execution_count": 8,
   "id": "71807c0e",
   "metadata": {},
   "outputs": [
    {
     "name": "stdout",
     "output_type": "stream",
     "text": [
      "0.8426\n"
     ]
    }
   ],
   "source": [
    "print(test_acc)"
   ]
  },
  {
   "cell_type": "code",
   "execution_count": 9,
   "id": "43c659f9",
   "metadata": {},
   "outputs": [],
   "source": [
    "#Wider network, 50 nodes in hidden layer instead of 10\n",
    "model2 = Sequential()\n",
    "model2.add(Dense(50, input_dim=784,activation='relu'))\n",
    "model2.add(Dense(10, activation='softmax'))"
   ]
  },
  {
   "cell_type": "code",
   "execution_count": 10,
   "id": "4a4b1f16",
   "metadata": {},
   "outputs": [],
   "source": [
    "model2.compile(loss='categorical_crossentropy', optimizer='adam', metrics=['accuracy'])"
   ]
  },
  {
   "cell_type": "code",
   "execution_count": 11,
   "id": "41d19f5f",
   "metadata": {},
   "outputs": [
    {
     "name": "stdout",
     "output_type": "stream",
     "text": [
      "Train on 54000 samples, validate on 6000 samples\n",
      "Epoch 1/10\n",
      "54000/54000 [==============================] - 11s 209us/sample - loss: 0.5408 - accuracy: 0.8159 - val_loss: 0.4663 - val_accuracy: 0.8357\n",
      "Epoch 2/10\n",
      "54000/54000 [==============================] - 7s 129us/sample - loss: 0.4096 - accuracy: 0.8551 - val_loss: 0.3914 - val_accuracy: 0.8632\n",
      "Epoch 3/10\n",
      "54000/54000 [==============================] - 7s 121us/sample - loss: 0.3704 - accuracy: 0.8677 - val_loss: 0.3744 - val_accuracy: 0.8668\n",
      "Epoch 4/10\n",
      "54000/54000 [==============================] - 7s 123us/sample - loss: 0.3479 - accuracy: 0.8744 - val_loss: 0.3789 - val_accuracy: 0.8590\n",
      "Epoch 5/10\n",
      "54000/54000 [==============================] - 7s 126us/sample - loss: 0.3296 - accuracy: 0.8804 - val_loss: 0.3713 - val_accuracy: 0.8682\n",
      "Epoch 6/10\n",
      "54000/54000 [==============================] - 8s 154us/sample - loss: 0.3135 - accuracy: 0.8866 - val_loss: 0.3398 - val_accuracy: 0.8775\n",
      "Epoch 7/10\n",
      "54000/54000 [==============================] - 7s 124us/sample - loss: 0.3020 - accuracy: 0.8887 - val_loss: 0.3658 - val_accuracy: 0.8772\n",
      "Epoch 8/10\n",
      "54000/54000 [==============================] - 7s 124us/sample - loss: 0.2918 - accuracy: 0.8923 - val_loss: 0.3568 - val_accuracy: 0.8725\n",
      "Epoch 9/10\n",
      "54000/54000 [==============================] - 9s 159us/sample - loss: 0.2837 - accuracy: 0.8949 - val_loss: 0.3592 - val_accuracy: 0.8737\n",
      "Epoch 10/10\n",
      "54000/54000 [==============================] - 6s 117us/sample - loss: 0.2766 - accuracy: 0.8986 - val_loss: 0.3358 - val_accuracy: 0.8802\n"
     ]
    },
    {
     "data": {
      "text/plain": [
       "<tensorflow.python.keras.callbacks.History at 0x7f9600096110>"
      ]
     },
     "execution_count": 11,
     "metadata": {},
     "output_type": "execute_result"
    }
   ],
   "source": [
    "model2.fit(x_train, y_train, epochs=10, validation_split=0.1)"
   ]
  },
  {
   "cell_type": "code",
   "execution_count": 12,
   "id": "0b4f4531",
   "metadata": {},
   "outputs": [],
   "source": [
    "%%capture\n",
    "_, test_acc = model2.evaluate(x_test, y_test)"
   ]
  },
  {
   "cell_type": "code",
   "execution_count": 13,
   "id": "20d0a61a",
   "metadata": {},
   "outputs": [
    {
     "name": "stdout",
     "output_type": "stream",
     "text": [
      "0.8753\n"
     ]
    }
   ],
   "source": [
    "print(test_acc)"
   ]
  },
  {
   "cell_type": "code",
   "execution_count": 14,
   "id": "89872b68",
   "metadata": {},
   "outputs": [],
   "source": [
    "#Wider and Deeper Networks with 2 hidden layers with 50 nodes each\n",
    "model3 = Sequential()\n",
    "model3.add(Dense(50, input_dim=784, activation='relu'))\n",
    "model3.add(Dense(50, activation='relu'))\n",
    "model3.add(Dense(10, activation='softmax'))"
   ]
  },
  {
   "cell_type": "code",
   "execution_count": 15,
   "id": "4ef9c6b1",
   "metadata": {},
   "outputs": [],
   "source": [
    "model3.compile(loss='categorical_crossentropy', optimizer='adam', metrics=['accuracy'])"
   ]
  },
  {
   "cell_type": "code",
   "execution_count": 16,
   "id": "df40439b",
   "metadata": {},
   "outputs": [
    {
     "name": "stdout",
     "output_type": "stream",
     "text": [
      "Train on 54000 samples, validate on 6000 samples\n",
      "Epoch 1/10\n",
      "54000/54000 [==============================] - 8s 154us/sample - loss: 0.5354 - accuracy: 0.8123 - val_loss: 0.4141 - val_accuracy: 0.8500\n",
      "Epoch 2/10\n",
      "54000/54000 [==============================] - 7s 133us/sample - loss: 0.3935 - accuracy: 0.8581 - val_loss: 0.3748 - val_accuracy: 0.8683\n",
      "Epoch 3/10\n",
      "54000/54000 [==============================] - 7s 124us/sample - loss: 0.3578 - accuracy: 0.8703 - val_loss: 0.3573 - val_accuracy: 0.8668\n",
      "Epoch 4/10\n",
      "54000/54000 [==============================] - 8s 146us/sample - loss: 0.3344 - accuracy: 0.8776 - val_loss: 0.3465 - val_accuracy: 0.8728\n",
      "Epoch 5/10\n",
      "54000/54000 [==============================] - 7s 129us/sample - loss: 0.3152 - accuracy: 0.8851 - val_loss: 0.3401 - val_accuracy: 0.8765\n",
      "Epoch 6/10\n",
      "54000/54000 [==============================] - 15s 280us/sample - loss: 0.3001 - accuracy: 0.8893 - val_loss: 0.3470 - val_accuracy: 0.8782\n",
      "Epoch 7/10\n",
      "54000/54000 [==============================] - 8s 143us/sample - loss: 0.2890 - accuracy: 0.8921 - val_loss: 0.3593 - val_accuracy: 0.8718\n",
      "Epoch 8/10\n",
      "54000/54000 [==============================] - 7s 127us/sample - loss: 0.2790 - accuracy: 0.8965 - val_loss: 0.3404 - val_accuracy: 0.8800\n",
      "Epoch 9/10\n",
      "54000/54000 [==============================] - 12s 214us/sample - loss: 0.2708 - accuracy: 0.8996 - val_loss: 0.3457 - val_accuracy: 0.8768\n",
      "Epoch 10/10\n",
      "54000/54000 [==============================] - 10s 178us/sample - loss: 0.2614 - accuracy: 0.9034 - val_loss: 0.3210 - val_accuracy: 0.8843\n"
     ]
    },
    {
     "data": {
      "text/plain": [
       "<tensorflow.python.keras.callbacks.History at 0x7f9600d7bed0>"
      ]
     },
     "execution_count": 16,
     "metadata": {},
     "output_type": "execute_result"
    }
   ],
   "source": [
    "model3.fit(x_train, y_train, epochs=10, validation_split=0.1)"
   ]
  },
  {
   "cell_type": "code",
   "execution_count": 17,
   "id": "451ee89e",
   "metadata": {},
   "outputs": [],
   "source": [
    "%%capture\n",
    "_, test_acc = model3.evaluate(x_test, y_test)"
   ]
  },
  {
   "cell_type": "code",
   "execution_count": 18,
   "id": "afc6ce12",
   "metadata": {},
   "outputs": [
    {
     "name": "stdout",
     "output_type": "stream",
     "text": [
      "0.878\n"
     ]
    }
   ],
   "source": [
    "print(test_acc)"
   ]
  }
 ],
 "metadata": {
  "kernelspec": {
   "display_name": "Python 3",
   "language": "python",
   "name": "python3"
  },
  "language_info": {
   "codemirror_mode": {
    "name": "ipython",
    "version": 3
   },
   "file_extension": ".py",
   "mimetype": "text/x-python",
   "name": "python",
   "nbconvert_exporter": "python",
   "pygments_lexer": "ipython3",
   "version": "3.7.10"
  }
 },
 "nbformat": 4,
 "nbformat_minor": 5
}
