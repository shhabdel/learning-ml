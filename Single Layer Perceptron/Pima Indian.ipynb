{
 "cells": [
  {
   "cell_type": "code",
   "execution_count": 1,
   "id": "a2a98558",
   "metadata": {},
   "outputs": [],
   "source": [
    "import numpy as np, random, os\n",
    "from numpy import genfromtxt"
   ]
  },
  {
   "cell_type": "code",
   "execution_count": 2,
   "id": "832e9670",
   "metadata": {},
   "outputs": [],
   "source": [
    "my_data = genfromtxt('pima-indian-diabetes.csv', delimiter=',')\n",
    "random.shuffle(my_data)\n",
    "attr_len = len(my_data[0])-1"
   ]
  },
  {
   "cell_type": "code",
   "execution_count": 3,
   "id": "add75564",
   "metadata": {},
   "outputs": [],
   "source": [
    "avgs = np.zeros(attr_len)\n",
    "i = 0\n",
    "for col in my_data.T[:-1]: \n",
    "    avgs[i] = np.mean(col)\n",
    "    i += 1\n",
    "for i in range(len(my_data)):\n",
    "    for j in range(attr_len):\n",
    "        if my_data[i][j] == 0:\n",
    "            my_data[i][j] = avgs[j]"
   ]
  },
  {
   "cell_type": "code",
   "execution_count": 4,
   "id": "10c17dc7",
   "metadata": {},
   "outputs": [],
   "source": [
    "training = my_data[:461]\n",
    "test = my_data[461:]"
   ]
  },
  {
   "cell_type": "code",
   "execution_count": 5,
   "id": "5c40b1ae",
   "metadata": {},
   "outputs": [
    {
     "data": {
      "text/plain": [
       "array([[6.00000000e+00, 6.00000000e+00, 1.00000000e+00, ...,\n",
       "        2.00000000e+00, 1.00000000e+00, 3.00000000e+00],\n",
       "       [1.48000000e+02, 1.48000000e+02, 8.50000000e+01, ...,\n",
       "        8.50000000e+01, 1.19757812e+02, 9.00000000e+01],\n",
       "       [7.20000000e+01, 7.20000000e+01, 6.60000000e+01, ...,\n",
       "        6.50000000e+01, 4.80000000e+01, 7.80000000e+01],\n",
       "       ...,\n",
       "       [6.27000000e-01, 6.27000000e-01, 3.51000000e-01, ...,\n",
       "        9.30000000e-01, 1.40000000e-01, 5.59000000e-01],\n",
       "       [5.00000000e+01, 5.00000000e+01, 3.10000000e+01, ...,\n",
       "        2.70000000e+01, 2.20000000e+01, 2.10000000e+01],\n",
       "       [1.00000000e+00, 1.00000000e+00, 0.00000000e+00, ...,\n",
       "        0.00000000e+00, 0.00000000e+00, 0.00000000e+00]])"
      ]
     },
     "execution_count": 5,
     "metadata": {},
     "output_type": "execute_result"
    }
   ],
   "source": [
    "my_data.T"
   ]
  },
  {
   "cell_type": "code",
   "execution_count": 6,
   "id": "ee8f8f94",
   "metadata": {},
   "outputs": [],
   "source": [
    "weights = np.zeros(attr_len)\n",
    "for i in range(0,attr_len):\n",
    "    weights[i] = random.uniform(-1, 1)\n",
    "bias = 1"
   ]
  },
  {
   "cell_type": "code",
   "execution_count": 7,
   "id": "db6c7d27",
   "metadata": {},
   "outputs": [],
   "source": [
    "def Perceptron(data_row, bias):\n",
    "    output = data_row[-1]\n",
    "    data_row = data_row[:-1]\n",
    "    pred = 0\n",
    "    for i in range(len(data_row)):\n",
    "        pred += data_row[i]*weights[i]\n",
    "        \n",
    "    pred += bias\n",
    "    \n",
    "    # Activation Code\n",
    "    if pred > 0: pred = 1\n",
    "    else: pred = 0\n",
    "        \n",
    "    error = output - pred \n",
    "    for i in range(len(data_row)):\n",
    "        weights[i] += error*data_row[i]\n",
    "    \n",
    "    bias += error"
   ]
  },
  {
   "cell_type": "code",
   "execution_count": 8,
   "id": "0455c5d3",
   "metadata": {},
   "outputs": [],
   "source": [
    "for i in range(50):\n",
    "    for i in range(len(training)):\n",
    "        Perceptron(training[i], bias)"
   ]
  },
  {
   "cell_type": "code",
   "execution_count": 9,
   "id": "7f3dd173",
   "metadata": {},
   "outputs": [],
   "source": [
    "def Predict(new_data, bias):\n",
    "    pred = 0\n",
    "    for i in range(len(new_data)):\n",
    "        pred += new_data[i]*weights[i]\n",
    "    pred += bias\n",
    "    if pred > 0: pred = 1\n",
    "    else: pred = 0\n",
    "    return pred\n",
    "    "
   ]
  },
  {
   "cell_type": "code",
   "execution_count": 10,
   "id": "84b84be4",
   "metadata": {},
   "outputs": [],
   "source": [
    "training_error = 0\n",
    "for i in range(len(training)):\n",
    "    pred = Predict(training[i][:-1], bias)\n",
    "    training_error += abs(training[i][-1] - pred)"
   ]
  },
  {
   "cell_type": "code",
   "execution_count": 11,
   "id": "0c5a81b7",
   "metadata": {},
   "outputs": [],
   "source": [
    "test_error = 0\n",
    "for i in range(len(test)):\n",
    "    pred = Predict(test[i][:-1], bias)\n",
    "    test_error += abs(test[i][-1] - pred)"
   ]
  },
  {
   "cell_type": "code",
   "execution_count": 12,
   "id": "14867673",
   "metadata": {},
   "outputs": [
    {
     "data": {
      "text/plain": [
       "65.50976138828634"
      ]
     },
     "execution_count": 12,
     "metadata": {},
     "output_type": "execute_result"
    }
   ],
   "source": [
    "(1 - (training_error / len(training))) * 100"
   ]
  },
  {
   "cell_type": "code",
   "execution_count": 13,
   "id": "64ac2595",
   "metadata": {},
   "outputs": [
    {
     "data": {
      "text/plain": [
       "70.68403908794788"
      ]
     },
     "execution_count": 13,
     "metadata": {},
     "output_type": "execute_result"
    }
   ],
   "source": [
    "(1 - (test_error / len(test))) * 100"
   ]
  }
 ],
 "metadata": {
  "kernelspec": {
   "display_name": "Python 3",
   "language": "python",
   "name": "python3"
  },
  "language_info": {
   "codemirror_mode": {
    "name": "ipython",
    "version": 3
   },
   "file_extension": ".py",
   "mimetype": "text/x-python",
   "name": "python",
   "nbconvert_exporter": "python",
   "pygments_lexer": "ipython3",
   "version": "3.7.10"
  }
 },
 "nbformat": 4,
 "nbformat_minor": 5
}
